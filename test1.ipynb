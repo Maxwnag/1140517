{
 "cells": [
  {
   "cell_type": "code",
   "execution_count": 4,
   "id": "a3e9255b",
   "metadata": {},
   "outputs": [
    {
     "name": "stdout",
     "output_type": "stream",
     "text": [
      "=====遊戲開始=====\n",
      "\n",
      "猜錯了，再大一點\n",
      "YOU WIN_The number is : 6\n",
      "See You Next Time\n"
     ]
    }
   ],
   "source": [
    "import random\n",
    "min = 1\n",
    "max = 10\n",
    "random=random.randint(min,max)\n",
    "print('=====遊戲開始=====\\n')\n",
    "while True:\n",
    "  input_number = int(input(f\"請輸入數字({min}~{max}):\"))\n",
    "  if( input_number == random):\n",
    "   print(f\"YOU WIN_The number is : { input_number }\")\n",
    "   break\n",
    "  elif( input_number < random):\n",
    "   print(f\"{input_number}~{random}\")\n",
    "  else:\n",
    "   print(\"猜錯了，再大一點\")\n",
    "print(\"See You Next Time\")\n",
    "\n"
   ]
  },
  {
   "cell_type": "markdown",
   "id": "fcc67fd7",
   "metadata": {},
   "source": [
    "# 同步測試"
   ]
  }
 ],
 "metadata": {
  "kernelspec": {
   "display_name": "base",
   "language": "python",
   "name": "python3"
  },
  "language_info": {
   "codemirror_mode": {
    "name": "ipython",
    "version": 3
   },
   "file_extension": ".py",
   "mimetype": "text/x-python",
   "name": "python",
   "nbconvert_exporter": "python",
   "pygments_lexer": "ipython3",
   "version": "3.13.2"
  }
 },
 "nbformat": 4,
 "nbformat_minor": 5
}
